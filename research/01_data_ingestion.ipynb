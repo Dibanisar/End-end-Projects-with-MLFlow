{
 "cells": [
  {
   "cell_type": "code",
   "execution_count": 1,
   "metadata": {},
   "outputs": [],
   "source": [
    "import os"
   ]
  },
  {
   "cell_type": "code",
   "execution_count": 2,
   "metadata": {},
   "outputs": [
    {
     "data": {
      "text/plain": [
       "'c:\\\\Users\\\\diban\\\\Documents\\\\End-end ML project with MLFlow\\\\End-end-Projects-with-MLFlow\\\\research'"
      ]
     },
     "execution_count": 2,
     "metadata": {},
     "output_type": "execute_result"
    }
   ],
   "source": [
    "%pwd"
   ]
  },
  {
   "cell_type": "code",
   "execution_count": 3,
   "metadata": {},
   "outputs": [],
   "source": [
    "os.chdir(\"../\")"
   ]
  },
  {
   "cell_type": "code",
   "execution_count": 4,
   "metadata": {},
   "outputs": [],
   "source": [
    "from dataclasses import dataclass\n",
    "from pathlib import Path\n",
    "\n",
    "@dataclass(frozen = True)\n",
    "class DataIngestionConfig:\n",
    "    root_dir: Path\n",
    "    source_URL: str\n",
    "    local_data_file: Path\n",
    "    unzip_dir: Path\n",
    "    \n",
    "    #This is like creating a container and the frozen =True is to make the container immutable"
   ]
  },
  {
   "cell_type": "code",
   "execution_count": 5,
   "metadata": {},
   "outputs": [],
   "source": [
    "from src.ML_Project.constants import *\n",
    "from src.ML_Project.utils.common import read_yaml, create_directories\n"
   ]
  },
  {
   "cell_type": "code",
   "execution_count": 6,
   "metadata": {},
   "outputs": [],
   "source": [
    "class ConfigurationManager:\n",
    "    def __init__(self,\n",
    "                 config_filepath = CONFIG_FILE_PATH\n",
    "                     ,params_filepath = PARAMS_FILE_PATH\n",
    "                         ,schema_filepath = SCHEMA_FILE_PATH ):\n",
    "        \n",
    "        self.config = read_yaml(config_filepath)\n",
    "        self.params =read_yaml(params_filepath)\n",
    "        self.schema = read_yaml(schema_filepath)\n",
    "        \n",
    "        create_directories([self.config.artifacts_root]) #creating the artifact_root path\n",
    "        \n",
    "\n",
    "\n",
    "    def get_data_ingestion_config(self) -> DataIngestionConfig:\n",
    "        config = self.config.data_ingestion #this is reading the yaml file which points to config file and open the data_ingestion with conffig box\n",
    "        \n",
    "        create_directories([config.root_dir]) #using this function from common ro create dictionary accessed from the #self.config.data_ingestion above\n",
    "        \n",
    "        \n",
    "        data_ingestion_config = DataIngestionConfig(\n",
    "                root_dir = config.root_dir,\n",
    "                source_URL= config.source_URL,\n",
    "                local_data_file = config.local_data_file,\n",
    "                unzip_dir = config.unzip_dir\n",
    "        )#loading the container\n",
    "        \n",
    "        return data_ingestion_config\n",
    "    \n",
    "    \n",
    "        \n",
    "\n",
    "\n",
    "\n",
    "\n",
    "\n"
   ]
  },
  {
   "cell_type": "code",
   "execution_count": 7,
   "metadata": {},
   "outputs": [],
   "source": [
    "#updating the components\n",
    "import os\n",
    "import urllib.request as request\n",
    "import zipfile\n",
    "from src.ML_Project import Logger\n",
    "from src.ML_Project.utils.common import get_size"
   ]
  },
  {
   "cell_type": "code",
   "execution_count": 8,
   "metadata": {},
   "outputs": [],
   "source": [
    "class DataIngestion:\n",
    "    def __init__(self,config:DataIngestionConfig):\n",
    "        self.config = config\n",
    "        \n",
    "\n",
    "    def download_file(self):\n",
    "        \"\"\"downloading data and return data size if data already exist\n",
    "        \"\"\"\n",
    "        if not os.path.exists(self.config.local_data_file):\n",
    "            filename,headers = request.urlretrieve(\n",
    "                url =self.config.source_URL,\n",
    "                filename = self.config.local_data_file\n",
    "            )\n",
    "            Logger.info(f\"{filename} download! with following info: \\n{headers}\")\n",
    "        \n",
    "        else:\n",
    "            Logger.info(f\"File already exists of size: {get_size(Path(self.config.local_data_file))}\")\n",
    "            \n",
    "            \n",
    "\n",
    "    def extract_zip(self):\n",
    "        \"\"\"\n",
    "        extract zip file into the data directory\n",
    "        \"\"\"\n",
    "        \n",
    "        unzip_path = self.config.unzip_dir\n",
    "        os.makedirs(unzip_path,exist_ok= True)\n",
    "        with zipfile.ZipFile(self.config.local_data_file,\"r\") as zip_ref:\n",
    "            zip_ref.extractall(unzip_path)\n",
    "\n"
   ]
  },
  {
   "cell_type": "code",
   "execution_count": 9,
   "metadata": {},
   "outputs": [
    {
     "name": "stdout",
     "output_type": "stream",
     "text": [
      "[2025-01-17 11:29:14,188:INFO:yaml file :config\\config.yaml loaded successfully]\n"
     ]
    },
    {
     "name": "stdout",
     "output_type": "stream",
     "text": [
      "[2025-01-17 11:29:14,192:INFO:yaml file :params.yaml loaded successfully]\n",
      "[2025-01-17 11:29:14,194:INFO:yaml file :schema.yaml loaded successfully]\n",
      "[2025-01-17 11:29:14,195:INFO:created directory at: artifacts]\n",
      "[2025-01-17 11:29:14,203:INFO:created directory at: artifacts/data_validation]\n"
     ]
    },
    {
     "ename": "BoxKeyError",
     "evalue": "\"'ConfigBox' object has no attribute 'source_url'\"",
     "output_type": "error",
     "traceback": [
      "\u001b[1;31m---------------------------------------------------------------------------\u001b[0m",
      "\u001b[1;31mKeyError\u001b[0m                                  Traceback (most recent call last)",
      "File \u001b[1;32mc:\\Users\\diban\\Documents\\End-end ML project with MLFlow\\.venv\\Lib\\site-packages\\box\\box.py:594\u001b[0m, in \u001b[0;36mbox.box.Box.__getitem__\u001b[1;34m()\u001b[0m\n",
      "\u001b[1;31mKeyError\u001b[0m: 'source_URL'",
      "\nThe above exception was the direct cause of the following exception:\n",
      "\u001b[1;31mBoxKeyError\u001b[0m                               Traceback (most recent call last)",
      "File \u001b[1;32mc:\\Users\\diban\\Documents\\End-end ML project with MLFlow\\.venv\\Lib\\site-packages\\box\\box.py:633\u001b[0m, in \u001b[0;36mbox.box.Box.__getattr__\u001b[1;34m()\u001b[0m\n",
      "File \u001b[1;32mc:\\Users\\diban\\Documents\\End-end ML project with MLFlow\\.venv\\Lib\\site-packages\\box\\box.py:621\u001b[0m, in \u001b[0;36mbox.box.Box.__getitem__\u001b[1;34m()\u001b[0m\n",
      "\u001b[1;31mBoxKeyError\u001b[0m: \"'source_URL'\"",
      "\nDuring handling of the above exception, another exception occurred:\n",
      "\u001b[1;31mAttributeError\u001b[0m                            Traceback (most recent call last)",
      "File \u001b[1;32mc:\\Users\\diban\\Documents\\End-end ML project with MLFlow\\.venv\\Lib\\site-packages\\box\\box.py:635\u001b[0m, in \u001b[0;36mbox.box.Box.__getattr__\u001b[1;34m()\u001b[0m\n",
      "\u001b[1;31mAttributeError\u001b[0m: 'ConfigBox' object has no attribute 'source_URL'",
      "\nThe above exception was the direct cause of the following exception:\n",
      "\u001b[1;31mBoxKeyError\u001b[0m                               Traceback (most recent call last)",
      "File \u001b[1;32mc:\\Users\\diban\\Documents\\End-end ML project with MLFlow\\.venv\\Lib\\site-packages\\box\\config_box.py:29\u001b[0m, in \u001b[0;36mbox.config_box.ConfigBox.__getattr__\u001b[1;34m()\u001b[0m\n",
      "File \u001b[1;32mc:\\Users\\diban\\Documents\\End-end ML project with MLFlow\\.venv\\Lib\\site-packages\\box\\box.py:649\u001b[0m, in \u001b[0;36mbox.box.Box.__getattr__\u001b[1;34m()\u001b[0m\n",
      "\u001b[1;31mBoxKeyError\u001b[0m: \"'ConfigBox' object has no attribute 'source_URL'\"",
      "\nDuring handling of the above exception, another exception occurred:\n",
      "\u001b[1;31mKeyError\u001b[0m                                  Traceback (most recent call last)",
      "File \u001b[1;32mc:\\Users\\diban\\Documents\\End-end ML project with MLFlow\\.venv\\Lib\\site-packages\\box\\box.py:594\u001b[0m, in \u001b[0;36mbox.box.Box.__getitem__\u001b[1;34m()\u001b[0m\n",
      "\u001b[1;31mKeyError\u001b[0m: 'source_url'",
      "\nThe above exception was the direct cause of the following exception:\n",
      "\u001b[1;31mBoxKeyError\u001b[0m                               Traceback (most recent call last)",
      "File \u001b[1;32mc:\\Users\\diban\\Documents\\End-end ML project with MLFlow\\.venv\\Lib\\site-packages\\box\\box.py:633\u001b[0m, in \u001b[0;36mbox.box.Box.__getattr__\u001b[1;34m()\u001b[0m\n",
      "File \u001b[1;32mc:\\Users\\diban\\Documents\\End-end ML project with MLFlow\\.venv\\Lib\\site-packages\\box\\box.py:621\u001b[0m, in \u001b[0;36mbox.box.Box.__getitem__\u001b[1;34m()\u001b[0m\n",
      "\u001b[1;31mBoxKeyError\u001b[0m: \"'source_url'\"",
      "\nDuring handling of the above exception, another exception occurred:\n",
      "\u001b[1;31mAttributeError\u001b[0m                            Traceback (most recent call last)",
      "File \u001b[1;32mc:\\Users\\diban\\Documents\\End-end ML project with MLFlow\\.venv\\Lib\\site-packages\\box\\box.py:635\u001b[0m, in \u001b[0;36mbox.box.Box.__getattr__\u001b[1;34m()\u001b[0m\n",
      "\u001b[1;31mAttributeError\u001b[0m: 'ConfigBox' object has no attribute 'source_url'",
      "\nThe above exception was the direct cause of the following exception:\n",
      "\u001b[1;31mBoxKeyError\u001b[0m                               Traceback (most recent call last)",
      "Cell \u001b[1;32mIn[9], line 11\u001b[0m\n\u001b[0;32m      8\u001b[0m     data_ingestion\u001b[38;5;241m.\u001b[39mextract_zip()\n\u001b[0;32m     10\u001b[0m \u001b[38;5;28;01mexcept\u001b[39;00m \u001b[38;5;167;01mException\u001b[39;00m \u001b[38;5;28;01mas\u001b[39;00m e:\n\u001b[1;32m---> 11\u001b[0m     \u001b[38;5;28;01mraise\u001b[39;00m e\n",
      "Cell \u001b[1;32mIn[9], line 5\u001b[0m\n\u001b[0;32m      3\u001b[0m \u001b[38;5;28;01mtry\u001b[39;00m:\n\u001b[0;32m      4\u001b[0m     config \u001b[38;5;241m=\u001b[39m ConfigurationManager()\n\u001b[1;32m----> 5\u001b[0m     data_ingestion_config \u001b[38;5;241m=\u001b[39m \u001b[43mconfig\u001b[49m\u001b[38;5;241;43m.\u001b[39;49m\u001b[43mget_data_ingestion_config\u001b[49m\u001b[43m(\u001b[49m\u001b[43m)\u001b[49m\n\u001b[0;32m      6\u001b[0m     data_ingestion \u001b[38;5;241m=\u001b[39m DataIngestion(config \u001b[38;5;241m=\u001b[39m data_ingestion_config)\n\u001b[0;32m      7\u001b[0m     data_ingestion\u001b[38;5;241m.\u001b[39mdownload_file()\n",
      "Cell \u001b[1;32mIn[6], line 23\u001b[0m, in \u001b[0;36mConfigurationManager.get_data_ingestion_config\u001b[1;34m(self)\u001b[0m\n\u001b[0;32m     16\u001b[0m config \u001b[38;5;241m=\u001b[39m \u001b[38;5;28mself\u001b[39m\u001b[38;5;241m.\u001b[39mconfig\u001b[38;5;241m.\u001b[39mdata_ingestion \u001b[38;5;66;03m#this is reading the yaml file which points to config file and open the data_ingestion with conffig box\u001b[39;00m\n\u001b[0;32m     18\u001b[0m create_directories([config\u001b[38;5;241m.\u001b[39mroot_dir]) \u001b[38;5;66;03m#using this function from common ro create dictionary accessed from the #self.config.data_ingestion above\u001b[39;00m\n\u001b[0;32m     21\u001b[0m data_ingestion_config \u001b[38;5;241m=\u001b[39m DataIngestionConfig(\n\u001b[0;32m     22\u001b[0m         root_dir \u001b[38;5;241m=\u001b[39m config\u001b[38;5;241m.\u001b[39mroot_dir,\n\u001b[1;32m---> 23\u001b[0m         source_URL\u001b[38;5;241m=\u001b[39m \u001b[43mconfig\u001b[49m\u001b[38;5;241;43m.\u001b[39;49m\u001b[43msource_URL\u001b[49m,\n\u001b[0;32m     24\u001b[0m         local_data_file \u001b[38;5;241m=\u001b[39m config\u001b[38;5;241m.\u001b[39mlocal_data_file,\n\u001b[0;32m     25\u001b[0m         unzip_dir \u001b[38;5;241m=\u001b[39m config\u001b[38;5;241m.\u001b[39munzip_dir\n\u001b[0;32m     26\u001b[0m )\u001b[38;5;66;03m#loading the container\u001b[39;00m\n\u001b[0;32m     28\u001b[0m \u001b[38;5;28;01mreturn\u001b[39;00m data_ingestion_config\n",
      "File \u001b[1;32mc:\\Users\\diban\\Documents\\End-end ML project with MLFlow\\.venv\\Lib\\site-packages\\box\\config_box.py:31\u001b[0m, in \u001b[0;36mbox.config_box.ConfigBox.__getattr__\u001b[1;34m()\u001b[0m\n",
      "File \u001b[1;32mc:\\Users\\diban\\Documents\\End-end ML project with MLFlow\\.venv\\Lib\\site-packages\\box\\box.py:649\u001b[0m, in \u001b[0;36mbox.box.Box.__getattr__\u001b[1;34m()\u001b[0m\n",
      "\u001b[1;31mBoxKeyError\u001b[0m: \"'ConfigBox' object has no attribute 'source_url'\""
     ]
    }
   ],
   "source": [
    "#updating my pipeline\n",
    "\n",
    "try:\n",
    "    config = ConfigurationManager()\n",
    "    data_ingestion_config = config.get_data_ingestion_config()\n",
    "    data_ingestion = DataIngestion(config = data_ingestion_config)\n",
    "    data_ingestion.download_file()\n",
    "    data_ingestion.extract_zip()\n",
    "\n",
    "except Exception as e:\n",
    "    raise e\n"
   ]
  },
  {
   "cell_type": "code",
   "execution_count": 11,
   "metadata": {},
   "outputs": [
    {
     "ename": "AttributeError",
     "evalue": "'ConfigurationManager' object has no attribute 'source_url'",
     "output_type": "error",
     "traceback": [
      "\u001b[1;31m---------------------------------------------------------------------------\u001b[0m",
      "\u001b[1;31mAttributeError\u001b[0m                            Traceback (most recent call last)",
      "Cell \u001b[1;32mIn[11], line 1\u001b[0m\n\u001b[1;32m----> 1\u001b[0m \u001b[38;5;28mprint\u001b[39m(\u001b[43mconfig\u001b[49m\u001b[38;5;241;43m.\u001b[39;49m\u001b[43msource_url\u001b[49m)\n",
      "\u001b[1;31mAttributeError\u001b[0m: 'ConfigurationManager' object has no attribute 'source_url'"
     ]
    }
   ],
   "source": [
    "print(config.source_url)"
   ]
  },
  {
   "cell_type": "code",
   "execution_count": 12,
   "metadata": {},
   "outputs": [],
   "source": [
    "\n",
    "    "
   ]
  },
  {
   "cell_type": "code",
   "execution_count": null,
   "metadata": {},
   "outputs": [],
   "source": []
  }
 ],
 "metadata": {
  "kernelspec": {
   "display_name": ".venv",
   "language": "python",
   "name": "python3"
  },
  "language_info": {
   "codemirror_mode": {
    "name": "ipython",
    "version": 3
   },
   "file_extension": ".py",
   "mimetype": "text/x-python",
   "name": "python",
   "nbconvert_exporter": "python",
   "pygments_lexer": "ipython3",
   "version": "3.12.3"
  }
 },
 "nbformat": 4,
 "nbformat_minor": 2
}
